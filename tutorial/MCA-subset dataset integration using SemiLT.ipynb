{
 "cells": [
  {
   "cell_type": "markdown",
   "id": "133d6c9e-0589-488d-a74a-f563ba36b9bb",
   "metadata": {},
   "source": [
    "# MCA-subset integration using SemiLT"
   ]
  },
  {
   "cell_type": "markdown",
   "id": "cb7a99ff-97ec-4643-aba5-7f00deb55756",
   "metadata": {},
   "source": [
    "In this tutorial, we will illustrate the utility of scJoint step by step using MCA-subset data from Tabula Muris(https://tabula-muris.ds.czbiohub.org/) and Mouse sci-ATAC-seq Atlas(https://atlas.gs.washington.edu/mouse-atac/). We can use SemiLT to perform integration analysis of scRNA-seq and scATAC-seq by concatenating gene expression or gene activity vectors. After preprocessing, quality control and cell type annotation, the data contains 22660 cells from scRNA-seq data and 36770 cells from scATAC-seq data."
   ]
  },
  {
   "cell_type": "markdown",
   "id": "3166b55b-beb7-4b68-8fb0-488b04e21345",
   "metadata": {},
   "source": [
    "## Preparing input for SemiLT in setting.py"
   ]
  },
  {
   "cell_type": "markdown",
   "id": "4cfa17ed-b3de-4ee1-8f69-98fc085c40b3",
   "metadata": {},
   "source": [
    "```python\n",
    "DB = 'MCA-subset'\n",
    "if DB == \"MCA-subset\":\n",
    "    self.number_of_class = 14 \n",
    "    self.input_size = 17057 \n",
    "    self.rna_paths = ['data_MCA/adata_mca_gem.h5ad'] \n",
    "    self.atac_paths = ['data_MCA/adata_mca_gam.h5ad'] \n",
    "    self.rna_protein_paths = [] \n",
    "    self.atac_protein_paths = [] \n",
    "    self.peak_paths = ['data_MCA/adata_mca_peak.h5ad']\n",
    "    self.atac_labels = True\n",
    "\n",
    "    # Training setting            \n",
    "    self.batch_size = 256\n",
    "    self.lr = 0.008\n",
    "    self.lr_decay_epoch = 20\n",
    "    self.epochs = 20\n",
    "    self.embedding_size = 64\n",
    "    self.momentum = 0.9\n",
    "    self.seed = 1\n",
    "    self.checkpoint = ''\n",
    "```"
   ]
  },
  {
   "cell_type": "markdown",
   "id": "b29e3894-248f-4e6d-bb76-ffce16504513",
   "metadata": {},
   "source": [
    "## Running SemiLT in main.py"
   ]
  },
  {
   "cell_type": "code",
   "execution_count": 1,
   "id": "2227be13-56a2-4961-b907-f04468cc6184",
   "metadata": {},
   "outputs": [
    {
     "name": "stdout",
     "output_type": "stream",
     "text": [
      "Start time:  05:03:21\n",
      "SemiLT start:\n",
      "num_workers: 0\n",
      "load h5ad matrix: /users/PCON0022/wangxiaoying/czt/myJoint/5-SemiLT/data_MCA/adata_mca_gem.h5ad\n",
      "load h5ad matrix: /users/PCON0022/wangxiaoying/czt/myJoint/5-SemiLT/data_MCA/adata_mca_gam.h5ad\n",
      "load h5ad matrix: /users/PCON0022/wangxiaoying/czt/myJoint/5-SemiLT/data_MCA/adata_mca_peak.h5ad\n",
      "Epoch: 0\n",
      "LR is set to 0.008\n",
      "LR is set to 0.008\n",
      " [=============================>]    Step: 694ms | Tot: 1m41s | Embedding loss: 1.195 , Prediction loss:  1.408 143/143     \n",
      "Epoch: 1\n",
      " [=============================>]    Step: 747ms | Tot: 1m44s | Embedding loss: 1.084 , Prediction loss:  0.983 143/143 3 3 \n",
      "Epoch: 2\n",
      " [=============================>]    Step: 709ms | Tot: 1m43s | Embedding loss: 1.069 , Prediction loss:  0.962 143/143   3 \n",
      "Epoch: 3\n",
      " [=============================>]    Step: 722ms | Tot: 1m43s | Embedding loss: 1.054 , Prediction loss:  0.946 143/143   3 \n",
      "Epoch: 4\n",
      " [=============================>]    Step: 1s124ms | Tot: 1m42s | Embedding loss: 1.047 , Prediction loss:  0.941 143/143 \n",
      "Epoch: 5\n",
      " [=============================>]    Step: 762ms | Tot: 1m43s | Embedding loss: 1.037 , Prediction loss:  0.940 143/143   3 \n",
      "Epoch: 6\n",
      " [=============================>]    Step: 707ms | Tot: 1m43s | Embedding loss: 1.024 , Prediction loss:  0.937 143/143 3 3 \n",
      "Epoch: 7\n",
      " [=============================>]    Step: 727ms | Tot: 1m43s | Embedding loss: 1.019 , Prediction loss:  0.935 143/143 3 3 \n",
      "Epoch: 8\n",
      " [=============================>]    Step: 730ms | Tot: 1m45s | Embedding loss: 1.008 , Prediction loss:  0.934 143/143 3   \n",
      "Epoch: 9\n",
      " [=============================>]    Step: 742ms | Tot: 1m44s | Embedding loss: 1.019 , Prediction loss:  0.934 143/143 3  \n",
      "Epoch: 10\n",
      " [=============================>]    Step: 707ms | Tot: 1m45s | Embedding loss: 0.998 , Prediction loss:  0.937 143/143   3 \n",
      "Epoch: 11\n",
      " [=============================>]    Step: 744ms | Tot: 1m43s | Embedding loss: 0.996 , Prediction loss:  0.932 143/143   3 \n",
      "Epoch: 12\n",
      " [=============================>]    Step: 698ms | Tot: 1m42s | Embedding loss: 0.992 , Prediction loss:  0.931 143/143    \n",
      "Epoch: 13\n",
      " [=============================>]    Step: 732ms | Tot: 1m42s | Embedding loss: 0.997 , Prediction loss:  0.932 143/143 3 3 \n",
      "Epoch: 14\n",
      " [=============================>]    Step: 730ms | Tot: 1m43s | Embedding loss: 0.981 , Prediction loss:  0.934 143/143 3 \n",
      "Epoch: 15\n",
      " [=============================>]    Step: 730ms | Tot: 1m44s | Embedding loss: 0.974 , Prediction loss:  0.936 143/143 3 \n",
      "Epoch: 16\n",
      " [=============================>]    Step: 710ms | Tot: 1m42s | Embedding loss: 0.977 , Prediction loss:  0.933 143/143   \n",
      "Epoch: 17\n",
      " [=============================>]    Step: 750ms | Tot: 1m44s | Embedding loss: 0.981 , Prediction loss:  0.933 143/143 3  \n",
      "Epoch: 18\n",
      " [=============================>]    Step: 708ms | Tot: 1m42s | Embedding loss: 0.976 , Prediction loss:  0.931 143/143 3 \n",
      "Epoch: 19\n",
      " [=============================>]    Step: 763ms | Tot: 1m43s | Embedding loss: 0.982 , Prediction loss:  0.933 143/143 3  \n",
      "Write embeddings\n",
      " [=============================>]    Step: 46ms | Tot: 7s58ms | write embeddings for db:adata_mca_ge 89/89   \n",
      " [=============================>]    Step: 53ms | Tot: 11s524ms | write embeddings for db:adata_mca_ga 144/144 \n",
      "SemiLT finished:  05:38:41\n",
      "Label transfer:\n",
      "[Label transfer] Read RNA data\n",
      "[Label transfer] Read ATAC data\n",
      "[Label transfer] Build Space\n",
      "[Label transfer] finished\n",
      "ARI:0.989108\n",
      "Recall：0.987517\n",
      "Precision:0.983884\n",
      "F1-score：0.985154\n",
      "Label transfer finished:  05:39:23\n",
      "Run time：0: 36: 2\n"
     ]
    }
   ],
   "source": [
    "import torch\n",
    "import os\n",
    "from datetime import datetime\n",
    "from SemiLT.trainingprocess import Training\n",
    "from SemiLT.transfer import Transfer\n",
    "import time\n",
    "from setting import Setting\n",
    "import random\n",
    "random.seed(1)\n",
    "\n",
    "def main():\n",
    "    # hardware constraint for speed test\n",
    "    start_time = time.time()\n",
    "    torch.set_num_threads(1)\n",
    "    os.environ['OMP_NUM_THREADS'] = '1'\n",
    "    \n",
    "    # initialization \n",
    "    setting = Setting()    \n",
    "    torch.manual_seed(setting.seed)\n",
    "    print('Start time: ', datetime.now().strftime('%H:%M:%S'))\n",
    "    \n",
    "    # Training\n",
    "    print('SemiLT start:')\n",
    "    model_stage1= Training(setting)    \n",
    "    for epoch in range(setting.epochs):\n",
    "        print('Epoch:', epoch)\n",
    "        model_stage1.train(epoch)\n",
    "    \n",
    "    print('Write embeddings')\n",
    "    model_stage1.write_embeddings()\n",
    "    print('SemiLT finished: ', datetime.now().strftime('%H:%M:%S'))\n",
    "    \n",
    "    # Label transfer\n",
    "    print('Label transfer:')\n",
    "    Transfer(setting, neighbors = 10, knn_rna_samples=50000)\n",
    "    print('Label transfer finished: ', datetime.now().strftime('%H:%M:%S'))\n",
    "    \n",
    "    end_time = time.time()\n",
    "    run_time = end_time - start_time\n",
    "    hours = int(run_time / 3600)\n",
    "    minutes = int((run_time - hours * 3600) / 60)\n",
    "    seconds = int(run_time - hours * 3600 - minutes * 60)\n",
    "    print(f\"Run time：{hours}: {minutes}: {seconds}\")\n",
    "    \n",
    "if __name__ == \"__main__\":\n",
    "    main()"
   ]
  }
 ],
 "metadata": {
  "kernelspec": {
   "display_name": "czt01",
   "language": "python",
   "name": "czt01"
  },
  "language_info": {
   "codemirror_mode": {
    "name": "ipython",
    "version": 3
   },
   "file_extension": ".py",
   "mimetype": "text/x-python",
   "name": "python",
   "nbconvert_exporter": "python",
   "pygments_lexer": "ipython3",
   "version": "3.7.11"
  }
 },
 "nbformat": 4,
 "nbformat_minor": 5
}
