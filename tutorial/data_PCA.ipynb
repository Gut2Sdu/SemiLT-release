{
 "cells": [
  {
   "cell_type": "code",
   "execution_count": 1,
   "id": "73c8685e-d6ed-45e4-ab97-89b767688bdd",
   "metadata": {},
   "outputs": [],
   "source": [
    "import scanpy as sc\n",
    "import anndata as ad\n",
    "from scipy.sparse import csr_matrix"
   ]
  },
  {
   "cell_type": "code",
   "execution_count": 2,
   "id": "a75365f6-3ad3-43f5-8d78-87dc5bddba77",
   "metadata": {},
   "outputs": [
    {
     "data": {
      "text/plain": [
       "AnnData object with n_obs × n_vars = 69249 × 129921\n",
       "    obs: 'GEX_pct_counts_mt', 'GEX_n_counts', 'GEX_n_genes', 'GEX_size_factors', 'GEX_phase', 'ATAC_nCount_peaks', 'ATAC_atac_fragments', 'ATAC_reads_in_peaks_frac', 'ATAC_blacklist_fraction', 'ATAC_nucleosome_signal', 'cell_type', 'batch', 'ATAC_pseudotime_order', 'GEX_pseudotime_order', 'Samplename', 'Site', 'DonorNumber', 'Modality', 'VendorLot', 'DonorID', 'DonorAge', 'DonorBMI', 'DonorBloodType', 'DonorRace', 'Ethnicity', 'DonorGender', 'QCMeds', 'DonorSmoker'\n",
       "    var: 'feature_types', 'gene_id'\n",
       "    uns: 'ATAC_gene_activity_var_names', 'dataset_id', 'genome', 'organism'\n",
       "    obsm: 'ATAC_gene_activity', 'ATAC_lsi_full', 'ATAC_lsi_red', 'ATAC_umap', 'GEX_X_pca', 'GEX_X_umap'\n",
       "    layers: 'counts'"
      ]
     },
     "execution_count": 2,
     "metadata": {},
     "output_type": "execute_result"
    }
   ],
   "source": [
    "# Perform PCA dimensionality reduction on scATAC-seq data\n",
    "\n",
    "adata = sc.read_h5ad('/users/PCON0022/wangxiaoying/czt/GSE194122_openproblems_neurips2021_multiome_BMMC_processed.h5ad')\n",
    "adata"
   ]
  },
  {
   "cell_type": "code",
   "execution_count": 3,
   "id": "5ca1e118-706f-4a27-9b49-dc98818d81bc",
   "metadata": {},
   "outputs": [
    {
     "data": {
      "text/plain": [
       "AnnData object with n_obs × n_vars = 17243 × 116490"
      ]
     },
     "execution_count": 3,
     "metadata": {},
     "output_type": "execute_result"
    }
   ],
   "source": [
    "# Data_1\n",
    "\n",
    "n_1=[]\n",
    "for i in range(0,len(adata.obs['Site'])):\n",
    "    if adata.obs['Site'][i]=='site1':\n",
    "        n_1.append(i)\n",
    "n_1atac=[]\n",
    "for i in range(0,len(adata.var['feature_types'])):\n",
    "    if adata.var['feature_types'][i]=='ATAC':\n",
    "        n_1atac.append(i)\n",
    "X_1atac=adata.X[n_1,:]\n",
    "X_1atac=X_1atac[:,n_1atac]\n",
    "\n",
    "atac_1 = ad.AnnData(X_1atac)\n",
    "atac_1.obs_names = adata[n_1].obs_names\n",
    "atac_1.var_names = adata[n_1][:,n_1atac].var_names\n",
    "atac_1"
   ]
  },
  {
   "cell_type": "code",
   "execution_count": 4,
   "id": "891d6ec2-de18-42f1-b65c-12c4f0eb224c",
   "metadata": {},
   "outputs": [
    {
     "name": "stdout",
     "output_type": "stream",
     "text": [
      "WARNING: You’re trying to run this on 116490 dimensions of `.X`, if you really want this, set `use_rep='X'`.\n",
      "         Falling back to preprocessing with `sc.pp.pca` and default params.\n"
     ]
    },
    {
     "name": "stderr",
     "output_type": "stream",
     "text": [
      "2025-07-30 02:46:28.281786: I tensorflow/core/platform/cpu_feature_guard.cc:193] This TensorFlow binary is optimized with oneAPI Deep Neural Network Library (oneDNN) to use the following CPU instructions in performance-critical operations:  AVX2 FMA\n",
      "To enable them in other operations, rebuild TensorFlow with the appropriate compiler flags.\n",
      "2025-07-30 02:46:28.445256: E tensorflow/stream_executor/cuda/cuda_blas.cc:2981] Unable to register cuBLAS factory: Attempting to register factory for plugin cuBLAS when one has already been registered\n",
      "2025-07-30 02:46:29.526091: W tensorflow/stream_executor/platform/default/dso_loader.cc:64] Could not load dynamic library 'libnvinfer.so.7'; dlerror: libnvinfer.so.7: cannot open shared object file: No such file or directory; LD_LIBRARY_PATH: /apps/spack/0.21/ascend/linux-rhel9-zen2/node-js/gcc/11.4.1/22.12.0-bu73mcb/lib:/apps/spack/0.21/ascend/linux-rhel9-zen2/cuda/gcc/11.4.1/11.8.0-wnjkq76/lib64:/users/PCON0022/wangxiaoying/czt/lib/lib:/users/PCON0022/wangxiaoying/local/lib\n",
      "2025-07-30 02:46:29.526441: W tensorflow/stream_executor/platform/default/dso_loader.cc:64] Could not load dynamic library 'libnvinfer_plugin.so.7'; dlerror: libnvinfer_plugin.so.7: cannot open shared object file: No such file or directory; LD_LIBRARY_PATH: /apps/spack/0.21/ascend/linux-rhel9-zen2/node-js/gcc/11.4.1/22.12.0-bu73mcb/lib:/apps/spack/0.21/ascend/linux-rhel9-zen2/cuda/gcc/11.4.1/11.8.0-wnjkq76/lib64:/users/PCON0022/wangxiaoying/czt/lib/lib:/users/PCON0022/wangxiaoying/local/lib\n",
      "2025-07-30 02:46:29.526450: W tensorflow/compiler/tf2tensorrt/utils/py_utils.cc:38] TF-TRT Warning: Cannot dlopen some TensorRT libraries. If you would like to use Nvidia GPU with TensorRT, please make sure the missing libraries mentioned above are installed properly.\n"
     ]
    },
    {
     "data": {
      "text/plain": [
       "AnnData object with n_obs × n_vars = 17243 × 50"
      ]
     },
     "execution_count": 4,
     "metadata": {},
     "output_type": "execute_result"
    }
   ],
   "source": [
    "sc.pp.normalize_total(atac_1) \n",
    "sc.pp.log1p(atac_1)\n",
    "sc.pp.neighbors(atac_1)\n",
    "sc.tl.umap(atac_1,n_components = 50) # m = 50\n",
    "atac_1_PCA50 = ad.AnnData(X=csr_matrix(atac_1.obsm['X_pca']))\n",
    "atac_1_PCA50"
   ]
  },
  {
   "cell_type": "code",
   "execution_count": 5,
   "id": "7ef3452c-0b4e-46e3-9399-1d29ddf70c50",
   "metadata": {},
   "outputs": [],
   "source": [
    "atac_1_PCA50.write(\"/users/PCON0022/wangxiaoying/czt/peak_1_PCA50.h5ad\", compression=\"gzip\")"
   ]
  },
  {
   "cell_type": "code",
   "execution_count": null,
   "id": "f9516303-e2b9-4d02-a7dd-79a433c798b2",
   "metadata": {},
   "outputs": [],
   "source": []
  }
 ],
 "metadata": {
  "kernelspec": {
   "display_name": "czt01",
   "language": "python",
   "name": "czt01"
  },
  "language_info": {
   "codemirror_mode": {
    "name": "ipython",
    "version": 3
   },
   "file_extension": ".py",
   "mimetype": "text/x-python",
   "name": "python",
   "nbconvert_exporter": "python",
   "pygments_lexer": "ipython3",
   "version": "3.7.11"
  }
 },
 "nbformat": 4,
 "nbformat_minor": 5
}
