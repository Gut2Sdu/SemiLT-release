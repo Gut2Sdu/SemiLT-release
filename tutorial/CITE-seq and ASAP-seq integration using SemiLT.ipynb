{
 "cells": [
  {
   "cell_type": "markdown",
   "id": "f10e7640-e29e-4862-8232-7afec7a71fbc",
   "metadata": {
    "tags": []
   },
   "source": [
    "# CITE-seq and ASAP-seq integration using SemiLT"
   ]
  },
  {
   "cell_type": "markdown",
   "id": "f0ba9be9-7560-4ccc-8e3a-3e165688f49b",
   "metadata": {},
   "source": [
    "In this tutorial, we will illustrate the utility of SemiLT step by step using CITE-seq and ASAP-seq dataset (data-7) from a T cell stimulation experiment conducted by by Mimitou et al. 2020. We can use SemiLT to perform integration analysis of CITE-seq and ASAP-seq by concatenating gene expression or gene activity vectors with protein measurements. The data can be downoladed from GSE156478 or (https://github.com/SydneyBioX/scJoint/tree/main). After preprocessing, quality control and cell type annotation, the data contains 4644 cells from CITE-seq data and 4502 cells from ASAP-seq data."
   ]
  },
  {
   "cell_type": "code",
   "execution_count": 1,
   "id": "db28a3cf-851f-485e-a69e-2ed4c38c9209",
   "metadata": {},
   "outputs": [],
   "source": [
    "import torch\n",
    "import os\n",
    "from datetime import datetime\n",
    "from SemiLT.trainingprocess import Training\n",
    "from SemiLT.transfer import Transfer\n",
    "import time\n",
    "from setting import Setting\n",
    "import random\n",
    "random.seed(1)\n",
    "setting = Setting()"
   ]
  },
  {
   "cell_type": "markdown",
   "id": "671d77dc-c670-4539-992e-d172fab37faa",
   "metadata": {},
   "source": [
    "## Preparing input for SemiLT in setting.py"
   ]
  },
  {
   "cell_type": "markdown",
   "id": "895172f7-8f40-4b47-b13e-1422a84f378f",
   "metadata": {},
   "source": [
    "```python\n",
    "DB = 'CITE-ASAP'\n",
    "if DB == \"CITE_ASAP\":\n",
    "    self.number_of_class = 7 # Number of cell types in demo data\n",
    "    self.input_size = 17219 # Number of common genes and proteins between reference data and target data\n",
    "    self.rna_paths = ['data_demo/adata_ref_rna.h5ad'] # GEM from reference data\n",
    "    self.atac_paths = ['data_demo/adata_tar_atac.h5ad'] # GAM from target data\n",
    "    self.rna_protein_paths = ['data_demo/adata_ref_adt.h5ad'] # Protein expression from reference data\n",
    "    self.atac_protein_paths = ['data_demo/adata_tar_adt.h5ad'] # Protein expression from target data\n",
    "    self.peak_paths = ['data_demo/adata_tar_peak.h5ad'] #adata_tar_peak adata_tar_peak_tfidf\n",
    "    self.atac_labels = True\n",
    "\n",
    "    # Training setting            \n",
    "    self.batch_size = 256\n",
    "    self.lr = 0.008 #0.01\n",
    "    self.lr_decay_epoch = 20\n",
    "    self.epochs = 20\n",
    "    self.embedding_size = 64\n",
    "    self.momentum = 0.9\n",
    "    self.seed = 1\n",
    "    self.checkpoint = ''\n",
    "```"
   ]
  },
  {
   "cell_type": "markdown",
   "id": "2cbaf95a-0dce-419b-a071-c3ffa4f76bdc",
   "metadata": {},
   "source": [
    "## View data"
   ]
  },
  {
   "cell_type": "code",
   "execution_count": 2,
   "id": "7ab2a1c5-f6d1-4ad5-81c0-059b37455a48",
   "metadata": {},
   "outputs": [
    {
     "name": "stdout",
     "output_type": "stream",
     "text": [
      "AnnData object with n_obs × n_vars = 4644 × 16994\n",
      "    obs: 'cell_type'\n",
      "AnnData object with n_obs × n_vars = 4502 × 16994\n",
      "    obs: 'cell_type'\n",
      "AnnData object with n_obs × n_vars = 4644 × 225\n",
      "AnnData object with n_obs × n_vars = 4502 × 225\n"
     ]
    }
   ],
   "source": [
    "import scanpy as sc\n",
    "adata_ref_rna = sc.read(setting.rna_paths[0])\n",
    "print(adata_ref_rna)\n",
    "adata_tar_atac = sc.read(setting.atac_paths[0])\n",
    "print(adata_tar_atac)\n",
    "adata_ref_adt = sc.read(setting.rna_protein_paths[0])\n",
    "print(adata_ref_adt)\n",
    "adata_tar_adt = sc.read(setting.atac_protein_paths[0])\n",
    "print(adata_tar_adt)"
   ]
  },
  {
   "cell_type": "markdown",
   "id": "15c74d84-5b5d-41b2-8f97-79b25ef6dfcb",
   "metadata": {},
   "source": [
    "## Running SemiLT in main.py"
   ]
  },
  {
   "cell_type": "code",
   "execution_count": 3,
   "id": "6ad211f9-9ce5-43ee-93f8-2e6f0e7d4be9",
   "metadata": {},
   "outputs": [
    {
     "name": "stdout",
     "output_type": "stream",
     "text": [
      "Start time:  19:54:16\n",
      "SemiLT start:\n",
      "num_workers: 0\n",
      "load h5ad matrix: /users/PCON0022/wangxiaoying/czt/myJoint/5-SemiLT/data_demo/adata_ref_rna.h5ad\n",
      "load h5ad matrix: /users/PCON0022/wangxiaoying/czt/myJoint/5-SemiLT/data_demo/adata_ref_adt.h5ad\n",
      "load h5ad matrix: /users/PCON0022/wangxiaoying/czt/myJoint/5-SemiLT/data_demo/adata_tar_atac.h5ad\n",
      "load h5ad matrix: /users/PCON0022/wangxiaoying/czt/myJoint/5-SemiLT/data_demo/adata_tar_adt.h5ad\n",
      "load h5ad matrix: /users/PCON0022/wangxiaoying/czt/myJoint/5-SemiLT/data_demo/adata_tar_peak.h5ad\n",
      "Epoch: 0\n",
      "LR is set to 0.008\n",
      "LR is set to 0.008\n",
      " [============================>.]    Step: 1s206ms | Tot: 21s59ms | Embedding loss: 7.166 , Prediction loss:  3.815 17/17  \n",
      "Epoch: 1\n",
      " [============================>.]    Step: 1s363ms | Tot: 22s641ms | Embedding loss: 5.832 , Prediction loss:  1.390 17/17 \n",
      "Epoch: 2\n",
      " [============================>.]    Step: 1s267ms | Tot: 22s739ms | Embedding loss: 4.935 , Prediction loss:  1.182 17/17 \n",
      "Epoch: 3\n",
      " [============================>.]    Step: 1s342ms | Tot: 21s332ms | Embedding loss: 4.644 , Prediction loss:  1.086 17/17 \n",
      "Epoch: 4\n",
      " [============================>.]    Step: 1s327ms | Tot: 20s171ms | Embedding loss: 4.523 , Prediction loss:  1.031 17/17 \n",
      "Epoch: 5\n",
      " [============================>.]    Step: 1s462ms | Tot: 22s119ms | Embedding loss: 4.350 , Prediction loss:  1.004 17/17 \n",
      "Epoch: 6\n",
      " [============================>.]    Step: 1s411ms | Tot: 21s727ms | Embedding loss: 4.311 , Prediction loss:  0.988 17/17 \n",
      "Epoch: 7\n",
      " [============================>.]    Step: 1s336ms | Tot: 20s120ms | Embedding loss: 4.214 , Prediction loss:  0.973 17/17 \n",
      "Epoch: 8\n",
      " [============================>.]    Step: 1s469ms | Tot: 25s180ms | Embedding loss: 4.214 , Prediction loss:  0.972 17/17 \n",
      "Epoch: 9\n",
      " [============================>.]    Step: 1s707ms | Tot: 24s318ms | Embedding loss: 4.149 , Prediction loss:  0.960 17/17 \n",
      "Epoch: 10\n",
      " [============================>.]    Step: 1s503ms | Tot: 24s670ms | Embedding loss: 4.160 , Prediction loss:  0.957 17/17 \n",
      "Epoch: 11\n",
      " [============================>.]    Step: 1s345ms | Tot: 22s319ms | Embedding loss: 4.085 , Prediction loss:  0.951 17/17 \n",
      "Epoch: 12\n",
      " [============================>.]    Step: 1s381ms | Tot: 22s129ms | Embedding loss: 4.016 , Prediction loss:  0.947 17/17 \n",
      "Epoch: 13\n",
      " [============================>.]    Step: 1s351ms | Tot: 23s17ms | Embedding loss: 4.013 , Prediction loss:  0.946 17/17  \n",
      "Epoch: 14\n",
      " [============================>.]    Step: 1s563ms | Tot: 24s645ms | Embedding loss: 3.942 , Prediction loss:  0.941 17/17 \n",
      "Epoch: 15\n",
      " [============================>.]    Step: 1s472ms | Tot: 24s665ms | Embedding loss: 3.913 , Prediction loss:  0.938 17/17 \n",
      "Epoch: 16\n",
      " [============================>.]    Step: 1s472ms | Tot: 23s922ms | Embedding loss: 3.901 , Prediction loss:  0.937 17/17 \n",
      "Epoch: 17\n",
      " [============================>.]    Step: 1s418ms | Tot: 24s154ms | Embedding loss: 3.917 , Prediction loss:  0.940 17/17 \n",
      "Epoch: 18\n",
      " [============================>.]    Step: 1s290ms | Tot: 22s988ms | Embedding loss: 3.822 , Prediction loss:  0.938 17/17 \n",
      "Epoch: 19\n",
      " [============================>.]    Step: 1s580ms | Tot: 24s286ms | Embedding loss: 3.832 , Prediction loss:  0.935 17/17 \n",
      "Write embeddings\n",
      " [============================>.]    Step: 25ms | Tot: 2s75ms | write embeddings for db:adata_ref_rn 19/19   \n",
      " [============================>.]    Step: 66ms | Tot: 1s961ms | write embeddings for db:adata_tar_ata 18/18  \n",
      "SemiLT finished:  20:02:30\n",
      "Label transfer:\n",
      "[Label transfer] Read RNA data\n",
      "[Label transfer] Read ATAC data\n",
      "[Label transfer] Build Space\n",
      "[Label transfer] finished\n",
      "ARI:0.856386\n",
      "Recall：0.943709\n",
      "Precision:0.945964\n",
      "F1-score：0.943377\n",
      "Label transfer finished:  20:02:34\n",
      "Run time：0: 8: 18\n"
     ]
    }
   ],
   "source": [
    "def main():\n",
    "    # hardware constraint for speed test\n",
    "    start_time = time.time()\n",
    "    torch.set_num_threads(1)\n",
    "    os.environ['OMP_NUM_THREADS'] = '1'\n",
    "    \n",
    "    # initialization \n",
    "    setting = Setting()    \n",
    "    torch.manual_seed(setting.seed)\n",
    "    print('Start time: ', datetime.now().strftime('%H:%M:%S'))\n",
    "    \n",
    "    # Training\n",
    "    print('SemiLT start:')\n",
    "    model_stage1= Training(setting)    \n",
    "    for epoch in range(setting.epochs):\n",
    "        print('Epoch:', epoch)\n",
    "        model_stage1.train(epoch)\n",
    "    \n",
    "    print('Write embeddings')\n",
    "    model_stage1.write_embeddings()\n",
    "    print('SemiLT finished: ', datetime.now().strftime('%H:%M:%S'))\n",
    "    \n",
    "    # Label transfer\n",
    "    print('Label transfer:')\n",
    "    Transfer(setting, neighbors = 10, knn_rna_samples=50000)\n",
    "    print('Label transfer finished: ', datetime.now().strftime('%H:%M:%S'))\n",
    "    \n",
    "    end_time = time.time()\n",
    "    run_time = end_time - start_time\n",
    "    hours = int(run_time / 3600)\n",
    "    minutes = int((run_time - hours * 3600) / 60)\n",
    "    seconds = int(run_time - hours * 3600 - minutes * 60)\n",
    "    print(f\"Run time：{hours}: {minutes}: {seconds}\")\n",
    "    \n",
    "if __name__ == \"__main__\":\n",
    "    main()"
   ]
  }
 ],
 "metadata": {
  "kernelspec": {
   "display_name": "czt01",
   "language": "python",
   "name": "czt01"
  },
  "language_info": {
   "codemirror_mode": {
    "name": "ipython",
    "version": 3
   },
   "file_extension": ".py",
   "mimetype": "text/x-python",
   "name": "python",
   "nbconvert_exporter": "python",
   "pygments_lexer": "ipython3",
   "version": "3.7.11"
  }
 },
 "nbformat": 4,
 "nbformat_minor": 5
}
