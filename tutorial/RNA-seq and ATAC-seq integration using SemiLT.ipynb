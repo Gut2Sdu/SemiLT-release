{
 "cells": [
  {
   "cell_type": "markdown",
   "id": "7278fece-37b4-4e77-8c0b-506fb622dea2",
   "metadata": {},
   "source": [
    "# RNA-seq and ATAC-seq integration using SemiLT"
   ]
  },
  {
   "cell_type": "markdown",
   "id": "8e7668b5-a5ac-4a3b-b38c-194e75f68f8e",
   "metadata": {},
   "source": [
    "In this tutorial, we will illustrate the utility of SemiLT step by step using scRNA-seq and scATAC-seq dataset (data-5) from a mouse spleen dataset by Kai Cao et al. 2022. The data can be downoladed from (https://github.com/caokai1073/uniPort). After preprocessing, quality control and cell type annotation, the data contains 4271 cells from RNA-seq data and 3166 cells from ATAC-seq data."
   ]
  },
  {
   "cell_type": "code",
   "execution_count": 1,
   "id": "e0fecc2b-7f0e-43bb-8bb7-e53aa83c5a2d",
   "metadata": {},
   "outputs": [],
   "source": [
    "import torch\n",
    "import os\n",
    "from datetime import datetime\n",
    "from SemiLT.trainingprocess import Training\n",
    "from SemiLT.transfer import Transfer\n",
    "import time\n",
    "from setting import Setting\n",
    "import random\n",
    "random.seed(1)\n",
    "setting = Setting()"
   ]
  },
  {
   "cell_type": "markdown",
   "id": "794f6a8d-6b36-4436-8399-f6bcf9ace448",
   "metadata": {},
   "source": [
    "## Preparing input for SemiLT in setting.py"
   ]
  },
  {
   "cell_type": "markdown",
   "id": "85b802c7-afb3-42b7-8641-8f2689be5cc1",
   "metadata": {},
   "source": [
    "```python\n",
    "DB = 'ms'\n",
    "if DB == \"ms\":\n",
    "    self.number_of_class = 10\n",
    "    self.input_size = 11055\n",
    "    self.rna_paths = ['data_ms/ms_rna.h5ad']\n",
    "    self.atac_paths = ['data_ms/ms_atac.h5ad']\n",
    "    self.rna_protein_paths = [] \n",
    "    self.atac_protein_paths = [] \n",
    "    self.peak_paths = ['data_ms/ms_PCA50.h5ad']\n",
    "    self.atac_labels = True\n",
    "\n",
    "    # Training setting            \n",
    "    self.batch_size = 256\n",
    "    self.lr = 0.008\n",
    "    self.lr_decay_epoch = 20\n",
    "    self.epochs = 20\n",
    "    self.embedding_size = 64\n",
    "    self.momentum = 0.9\n",
    "    self.seed = 1\n",
    "    self.checkpoint = ''\n",
    "```"
   ]
  },
  {
   "cell_type": "markdown",
   "id": "0906152d-b4f4-402a-a885-9cbabbf20823",
   "metadata": {},
   "source": [
    "## View data"
   ]
  },
  {
   "cell_type": "code",
   "execution_count": 2,
   "id": "ac5dd8a3-d7a4-4b8c-8e90-cae52814d41d",
   "metadata": {},
   "outputs": [
    {
     "name": "stdout",
     "output_type": "stream",
     "text": [
      "AnnData object with n_obs × n_vars = 4271 × 11055\n",
      "    obs: 'cell_type', 'source', 'domain_id'\n",
      "    var: 'n_cells-0', 'n_cells-1'\n",
      "AnnData object with n_obs × n_vars = 3166 × 11055\n",
      "    obs: 'cell_type', 'source', 'domain_id'\n",
      "    var: 'n_cells-0', 'n_cells-1'\n"
     ]
    }
   ],
   "source": [
    "import scanpy as sc\n",
    "adata_ref_rna = sc.read(setting.rna_paths[0])\n",
    "print(adata_ref_rna)\n",
    "adata_tar_atac = sc.read(setting.atac_paths[0])\n",
    "print(adata_tar_atac)"
   ]
  },
  {
   "cell_type": "markdown",
   "id": "c510b769-789c-4747-83ca-addb9e542353",
   "metadata": {},
   "source": [
    "## Running SemiLT in main.py"
   ]
  },
  {
   "cell_type": "code",
   "execution_count": 3,
   "id": "d22a9445-42c9-4fb3-a7db-34597bc40d78",
   "metadata": {},
   "outputs": [
    {
     "name": "stdout",
     "output_type": "stream",
     "text": [
      "Start time:  20:15:39\n",
      "SemiLT start:\n",
      "num_workers: 0\n",
      "load h5ad matrix: /users/PCON0022/wangxiaoying/czt/myJoint/5-SemiLT/data_ms/ms_rna.h5ad\n",
      "load h5ad matrix: /users/PCON0022/wangxiaoying/czt/myJoint/5-SemiLT/data_ms/ms_atac.h5ad\n",
      "load h5ad matrix: /users/PCON0022/wangxiaoying/czt/myJoint/5-SemiLT/data_ms/ms_PCA50.h5ad\n",
      "Epoch: 0\n",
      "LR is set to 0.008\n",
      "LR is set to 0.008\n",
      " [===========================>..]    Step: 663ms | Tot: 8s182ms | Embedding loss: 7.068 , Prediction loss:  4.160 12/12  \n",
      "Epoch: 1\n",
      " [===========================>..]    Step: 678ms | Tot: 9s638ms | Embedding loss: 4.796 , Prediction loss:  2.870 12/12 2 \n",
      "Epoch: 2\n",
      " [===========================>..]    Step: 677ms | Tot: 8s643ms | Embedding loss: 4.350 , Prediction loss:  2.077 12/12  \n",
      "Epoch: 3\n",
      " [===========================>..]    Step: 685ms | Tot: 9s506ms | Embedding loss: 4.158 , Prediction loss:  1.672 12/12 2 \n",
      "Epoch: 4\n",
      " [===========================>..]    Step: 751ms | Tot: 9s98ms | Embedding loss: 4.077 , Prediction loss:  1.420 12/12   \n",
      "Epoch: 5\n",
      " [===========================>..]    Step: 1s209ms | Tot: 8s874ms | Embedding loss: 4.021 , Prediction loss:  1.260 12/12 \n",
      "Epoch: 6\n",
      " [===========================>..]    Step: 823ms | Tot: 9s694ms | Embedding loss: 3.877 , Prediction loss:  1.172 12/12 2 \n",
      "Epoch: 7\n",
      " [===========================>..]    Step: 729ms | Tot: 9s186ms | Embedding loss: 3.929 , Prediction loss:  1.118 12/12  \n",
      "Epoch: 8\n",
      " [===========================>..]    Step: 795ms | Tot: 9s183ms | Embedding loss: 3.863 , Prediction loss:  1.069 12/12  \n",
      "Epoch: 9\n",
      " [===========================>..]    Step: 1s161ms | Tot: 8s912ms | Embedding loss: 3.785 , Prediction loss:  1.044 12/12 \n",
      "Epoch: 10\n",
      " [===========================>..]    Step: 1s198ms | Tot: 9s704ms | Embedding loss: 3.765 , Prediction loss:  1.027 12/12 \n",
      "Epoch: 11\n",
      " [===========================>..]    Step: 754ms | Tot: 8s356ms | Embedding loss: 3.710 , Prediction loss:  1.010 12/12 \n",
      "Epoch: 12\n",
      " [===========================>..]    Step: 1s139ms | Tot: 10s286ms | Embedding loss: 3.708 , Prediction loss:  0.995 12/12 \n",
      "Epoch: 13\n",
      " [===========================>..]    Step: 698ms | Tot: 9s432ms | Embedding loss: 3.642 , Prediction loss:  0.984 12/12  \n",
      "Epoch: 14\n",
      " [===========================>..]    Step: 807ms | Tot: 9s542ms | Embedding loss: 3.607 , Prediction loss:  0.976 12/12 2 \n",
      "Epoch: 15\n",
      " [===========================>..]    Step: 722ms | Tot: 9s480ms | Embedding loss: 3.608 , Prediction loss:  0.971 12/12  \n",
      "Epoch: 16\n",
      " [===========================>..]    Step: 693ms | Tot: 9s642ms | Embedding loss: 3.521 , Prediction loss:  0.965 12/12  \n",
      "Epoch: 17\n",
      " [===========================>..]    Step: 702ms | Tot: 9s787ms | Embedding loss: 3.562 , Prediction loss:  0.961 12/12 2 \n",
      "Epoch: 18\n",
      " [===========================>..]    Step: 784ms | Tot: 9s573ms | Embedding loss: 3.515 , Prediction loss:  0.958 12/12  \n",
      "Epoch: 19\n",
      " [===========================>..]    Step: 727ms | Tot: 8s565ms | Embedding loss: 3.496 , Prediction loss:  0.953 12/12  \n",
      "Write embeddings\n",
      " [============================>.]    Step: 44ms | Tot: 1s119ms | write embeddings for db:ms_rn 17/17 \n",
      " [===========================>..]    Step: 30ms | Tot: 764ms | write embeddings for db:ms_ata 13/13 \n",
      "SemiLT finished:  20:19:06\n",
      "Label transfer:\n",
      "[Label transfer] Read RNA data\n",
      "[Label transfer] Read ATAC data\n",
      "[Label transfer] Build Space\n",
      "[Label transfer] finished\n",
      "ARI:0.874840\n",
      "Recall：0.896715\n",
      "Precision:0.898406\n",
      "F1-score：0.895107\n",
      "Label transfer finished:  20:19:09\n",
      "Run time：0: 3: 29\n"
     ]
    }
   ],
   "source": [
    "def main():\n",
    "    # hardware constraint for speed test\n",
    "    start_time = time.time()\n",
    "    torch.set_num_threads(1)\n",
    "    os.environ['OMP_NUM_THREADS'] = '1'\n",
    "    \n",
    "    # initialization \n",
    "    setting = Setting()    \n",
    "    torch.manual_seed(setting.seed)\n",
    "    print('Start time: ', datetime.now().strftime('%H:%M:%S'))\n",
    "    \n",
    "    # Training\n",
    "    print('SemiLT start:')\n",
    "    model_stage1= Training(setting)    \n",
    "    for epoch in range(setting.epochs):\n",
    "        print('Epoch:', epoch)\n",
    "        model_stage1.train(epoch)\n",
    "    \n",
    "    print('Write embeddings')\n",
    "    model_stage1.write_embeddings()\n",
    "    print('SemiLT finished: ', datetime.now().strftime('%H:%M:%S'))\n",
    "    \n",
    "    # Label transfer\n",
    "    print('Label transfer:')\n",
    "    Transfer(setting, neighbors = 10, knn_rna_samples=50000)\n",
    "    print('Label transfer finished: ', datetime.now().strftime('%H:%M:%S'))\n",
    "    \n",
    "    end_time = time.time()\n",
    "    run_time = end_time - start_time\n",
    "    hours = int(run_time / 3600)\n",
    "    minutes = int((run_time - hours * 3600) / 60)\n",
    "    seconds = int(run_time - hours * 3600 - minutes * 60)\n",
    "    print(f\"Run time：{hours}: {minutes}: {seconds}\")\n",
    "    \n",
    "if __name__ == \"__main__\":\n",
    "    main()"
   ]
  },
  {
   "cell_type": "code",
   "execution_count": null,
   "id": "1eae38c0-6b61-4f99-94cf-c8400f7549e8",
   "metadata": {},
   "outputs": [],
   "source": []
  }
 ],
 "metadata": {
  "kernelspec": {
   "display_name": "czt01",
   "language": "python",
   "name": "czt01"
  },
  "language_info": {
   "codemirror_mode": {
    "name": "ipython",
    "version": 3
   },
   "file_extension": ".py",
   "mimetype": "text/x-python",
   "name": "python",
   "nbconvert_exporter": "python",
   "pygments_lexer": "ipython3",
   "version": "3.7.11"
  }
 },
 "nbformat": 4,
 "nbformat_minor": 5
}
